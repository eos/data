{
 "cells": [
  {
   "cell_type": "code",
   "execution_count": 2,
   "metadata": {},
   "outputs": [],
   "source": [
    "import eos\n",
    "import os\n",
    "import numpy as np\n",
    "\n",
    "resample = False"
   ]
  },
  {
   "cell_type": "code",
   "execution_count": 3,
   "metadata": {},
   "outputs": [],
   "source": [
    "def wstd(samples, weights=None):\n",
    "    mean_w = np.average(samples, weights=weights)\n",
    "    return np.sqrt(np.average((samples - mean_w)**2, weights=weights))"
   ]
  },
  {
   "cell_type": "code",
   "execution_count": 4,
   "metadata": {},
   "outputs": [],
   "source": [
    "BASE_DIRECTORY = '/mt/home/mreboud/eos/analysis-2024-01/data/'\n",
    "if not os.path.exists(BASE_DIRECTORY):\n",
    "    os.makedirs(os.path.abspath(BASE_DIRECTORY), exist_ok=True)"
   ]
  },
  {
   "cell_type": "code",
   "execution_count": 5,
   "metadata": {},
   "outputs": [],
   "source": [
    "af = eos.AnalysisFile('/mt/home/mreboud/eos/analysis-2024-01/form-factor-analysis.yaml')"
   ]
  },
  {
   "cell_type": "markdown",
   "metadata": {},
   "source": [
    "## B to K"
   ]
  },
  {
   "cell_type": "code",
   "execution_count": 6,
   "metadata": {},
   "outputs": [],
   "source": [
    "posterior = 'BToK'\n",
    "analysis = af.analysis(posterior)"
   ]
  },
  {
   "cell_type": "code",
   "execution_count": 7,
   "metadata": {},
   "outputs": [
    {
     "data": {
      "application/vnd.jupyter.widget-view+json": {
       "model_id": "021955e266ff4a6f9281143131212ccd",
       "version_major": 2,
       "version_minor": 0
      },
      "text/plain": [
       "Accordion(children=(Output(layout=Layout(height='200px', overflow='auto')),), titles=('BToK/mode-default',))"
      ]
     },
     "metadata": {},
     "output_type": "display_data"
    },
    {
     "data": {
      "text/html": [
       "<table>\n",
       "<tr><th>constraint</th><th>&chi;<sup>2</sup></th><th>&plusmn;&chi;</th><th>d.o.f.</th><th>local p-value</th></tr>\n",
       "<tr style=\"\"><td><tt>B->K::f_0+f_++f_T@FNAL+MILC:2015D</tt></td><td>0.9005</td><td>&mdash;</td><td>9</td><td>99.9635%</td></tr>\n",
       "<tr style=\"\"><td><tt>B->K::f_0+f_++f_T@HPQCD:2013A</tt></td><td>5.8076</td><td>&mdash;</td><td>9</td><td>75.9011%</td></tr>\n",
       "<tr style=\"\"><td><tt>B->K::f_0+f_++f_T@HPQCD:2022A</tt></td><td>1.8548</td><td>&mdash;</td><td>8</td><td>98.5144%</td></tr>\n",
       "</table><br/>\n",
       "<table>\n",
       "<tr><th>total &chi;<sup>2</sup></th><td>8.5629</td></tr>\n",
       "<tr><th>total degrees of freedom</th><td>18</td></tr>\n",
       "<tr><th>p-value</th><td>96.9025%</td></tr>\n",
       "</table>\n"
      ],
      "text/plain": [
       "<_eos.GoodnessOfFit at 0x7fa2fcc3f420>"
      ]
     },
     "metadata": {},
     "output_type": "display_data"
    },
    {
     "data": {
      "text/plain": [
       "array([ 0.33184149, -0.96489598, -0.30385177,  0.33416488,  0.00294399,\n",
       "        0.32382204, -1.0280659 , -0.39824962])"
      ]
     },
     "execution_count": 7,
     "metadata": {},
     "output_type": "execute_result"
    }
   ],
   "source": [
    "bfp, gof = eos.tasks.find_mode(af, posterior, importance_samples=True, base_directory=BASE_DIRECTORY, optimizations=100)\n",
    "display(gof)\n",
    "bfp.point"
   ]
  },
  {
   "cell_type": "code",
   "execution_count": 8,
   "metadata": {},
   "outputs": [
    {
     "name": "stdout",
     "output_type": "stream",
     "text": [
      "Collected 14636 samples\n"
     ]
    }
   ],
   "source": [
    "if resample:\n",
    "    eos.tasks.sample_nested(af, posterior, base_directory=BASE_DIRECTORY, bound='multi')\n",
    "\n",
    "f = eos.data.ImportanceSamples(os.path.join(BASE_DIRECTORY, posterior, 'samples'))\n",
    "print(f\"Collected {f.samples.shape[0]} samples\")"
   ]
  },
  {
   "cell_type": "code",
   "execution_count": 9,
   "metadata": {},
   "outputs": [
    {
     "name": "stdout",
     "output_type": "stream",
     "text": [
      "      - { 'parameter': 'B->K::alpha^f+_0@BSZ2015', 'min':  0.27952, 'max':  0.38418, 'type': 'uniform'}\n",
      "      - { 'parameter': 'B->K::alpha^f+_1@BSZ2015', 'min':  -1.30153, 'max':  -0.62887, 'type': 'uniform'}\n",
      "      - { 'parameter': 'B->K::alpha^f+_2@BSZ2015', 'min':  -0.75583, 'max':  0.14725, 'type': 'uniform'}\n",
      "      - { 'parameter': 'B->K::alpha^f0_1@BSZ2015', 'min':  -0.05803, 'max':  0.72601, 'type': 'uniform'}\n",
      "      - { 'parameter': 'B->K::alpha^f0_2@BSZ2015', 'min':  -0.73816, 'max':  0.74434, 'type': 'uniform'}\n",
      "      - { 'parameter': 'B->K::alpha^fT_0@BSZ2015', 'min':  0.21672, 'max':  0.43094, 'type': 'uniform'}\n",
      "      - { 'parameter': 'B->K::alpha^fT_1@BSZ2015', 'min':  -1.89202, 'max':  -0.16595, 'type': 'uniform'}\n",
      "      - { 'parameter': 'B->K::alpha^fT_2@BSZ2015', 'min':  -2.11571, 'max':  1.31642, 'type': 'uniform'}\n"
     ]
    }
   ],
   "source": [
    "for i, p in enumerate(analysis.varied_parameters):\n",
    "    mean = np.average(f.samples[:,i], weights=f.weights)\n",
    "    std = wstd(f.samples[:,i], weights=f.weights)\n",
    "    print(f\"      - {{ 'parameter': '{p.name()}', 'min':  {mean - 5*std:.5f}, 'max':  {mean + 5*std:.5f}, 'type': 'uniform'}}\")"
   ]
  },
  {
   "cell_type": "code",
   "execution_count": 10,
   "metadata": {},
   "outputs": [],
   "source": [
    "if resample:\n",
    "    eos.tasks.corner_plot(af, posterior, base_directory=BASE_DIRECTORY)"
   ]
  },
  {
   "cell_type": "code",
   "execution_count": 11,
   "metadata": {},
   "outputs": [],
   "source": [
    "if resample:\n",
    "    eos.tasks.predict_observables(af, posterior, \"BToK\", base_directory=BASE_DIRECTORY)\n",
    "\n",
    "predictions = eos.Prediction(os.path.join(BASE_DIRECTORY, posterior, \"pred-BToK/\"))"
   ]
  },
  {
   "cell_type": "code",
   "execution_count": 14,
   "metadata": {},
   "outputs": [
    {
     "data": {
      "text/plain": [
       "array([0.33184796, 0.33220357, 0.33644018, 0.33743732, 0.34936222])"
      ]
     },
     "metadata": {},
     "output_type": "display_data"
    },
    {
     "data": {
      "text/plain": [
       "array([[0.00010956, 0.00010955, 0.00010943, 0.0001094 , 0.00010904],\n",
       "       [0.00010955, 0.00010954, 0.00010942, 0.00010939, 0.00010903],\n",
       "       [0.00010943, 0.00010942, 0.0001093 , 0.00010927, 0.00010893],\n",
       "       [0.0001094 , 0.00010939, 0.00010927, 0.00010925, 0.0001089 ],\n",
       "       [0.00010904, 0.00010903, 0.00010893, 0.0001089 , 0.0001086 ]])"
      ]
     },
     "metadata": {},
     "output_type": "display_data"
    },
    {
     "data": {
      "text/plain": [
       "array([0.        , 0.00046183, 0.00590286, 0.00716733, 0.02183346])"
      ]
     },
     "metadata": {},
     "output_type": "display_data"
    }
   ],
   "source": [
    "pred = np.average(predictions.samples, axis=0, weights=predictions.weights)\n",
    "display(pred)\n",
    "display(np.cov(predictions.samples, rowvar=False, aweights=predictions.weights))\n",
    "\n",
    "m2values = np.array([0., 0.0193, 0.247, 0.300, 0.917])\n",
    "display((pred - pred[0] / (1 - m2values / 5.630 / 5.630)) / pred)"
   ]
  },
  {
   "cell_type": "markdown",
   "metadata": {},
   "source": [
    "## B_s to K"
   ]
  },
  {
   "cell_type": "code",
   "execution_count": 22,
   "metadata": {},
   "outputs": [],
   "source": [
    "posterior = 'BsToK'\n",
    "analysis = af.analysis(posterior)"
   ]
  },
  {
   "cell_type": "code",
   "execution_count": 23,
   "metadata": {},
   "outputs": [
    {
     "data": {
      "application/vnd.jupyter.widget-view+json": {
       "model_id": "51d95e666e0945f6b58dc5b40c5aa1c4",
       "version_major": 2,
       "version_minor": 0
      },
      "text/plain": [
       "Accordion(children=(Output(layout=Layout(height='200px', overflow='auto')),), titles=('BsToK/mode-default',))"
      ]
     },
     "metadata": {},
     "output_type": "display_data"
    },
    {
     "data": {
      "text/html": [
       "<table>\n",
       "<tr><th>constraint</th><th>&chi;<sup>2</sup></th><th>&plusmn;&chi;</th><th>d.o.f.</th><th>local p-value</th></tr>\n",
       "<tr style=\"\"><td><tt>B_s->K::f_++f_0@HPQCD:2014A</tt></td><td>6.3299</td><td>&mdash;</td><td>6</td><td>38.7271%</td></tr>\n",
       "<tr style=\"\"><td><tt>B_s->K::f_++f_0@RBC+UKQCD:2023A</tt></td><td>1.5406</td><td>&mdash;</td><td>5</td><td>90.8342%</td></tr>\n",
       "<tr style=\"\"><td><tt>B_s->K::form-factors[f_+,f_0,f_T]@BvDV:2023A</tt></td><td>11.0404</td><td>&mdash;</td><td>11</td><td>43.9889%</td></tr>\n",
       "</table><br/>\n",
       "<table>\n",
       "<tr><th>total &chi;<sup>2</sup></th><td>18.9108</td></tr>\n",
       "<tr><th>total degrees of freedom</th><td>14</td></tr>\n",
       "<tr><th>p-value</th><td>16.8387%</td></tr>\n",
       "</table>\n"
      ],
      "text/plain": [
       "<_eos.GoodnessOfFit at 0x7fa2fcc6a430>"
      ]
     },
     "metadata": {},
     "output_type": "display_data"
    },
    {
     "data": {
      "text/plain": [
       "array([ 0.3018178 , -0.11345411,  2.52976012,  0.22641175, -0.36122404,\n",
       "        0.35092237, -0.91102085, -3.39310406])"
      ]
     },
     "execution_count": 23,
     "metadata": {},
     "output_type": "execute_result"
    }
   ],
   "source": [
    "bfp, gof = eos.tasks.find_mode(af, posterior, importance_samples=True, base_directory=BASE_DIRECTORY, optimizations=100)\n",
    "display(gof)\n",
    "bfp.point"
   ]
  },
  {
   "cell_type": "code",
   "execution_count": 24,
   "metadata": {},
   "outputs": [
    {
     "name": "stdout",
     "output_type": "stream",
     "text": [
      "Collected 15004 samples\n"
     ]
    }
   ],
   "source": [
    "if resample:\n",
    "    eos.tasks.sample_nested(af, posterior, base_directory=BASE_DIRECTORY, bound='multi')\n",
    "\n",
    "f = eos.data.ImportanceSamples(os.path.join(BASE_DIRECTORY, posterior, 'samples'))\n",
    "print(f\"Collected {f.samples.shape[0]} samples\")"
   ]
  },
  {
   "cell_type": "code",
   "execution_count": 25,
   "metadata": {},
   "outputs": [
    {
     "name": "stdout",
     "output_type": "stream",
     "text": [
      "      - { 'parameter': 'B_s->K::alpha^f+_0@BSZ2015', 'min':  0.24488, 'max':  0.35915, 'type': 'uniform'}\n",
      "      - { 'parameter': 'B_s->K::alpha^f+_1@BSZ2015', 'min':  -0.38576, 'max':  0.16177, 'type': 'uniform'}\n",
      "      - { 'parameter': 'B_s->K::alpha^f+_2@BSZ2015', 'min':  2.00422, 'max':  3.05987, 'type': 'uniform'}\n",
      "      - { 'parameter': 'B_s->K::alpha^f0_1@BSZ2015', 'min':  -0.02479, 'max':  0.47935, 'type': 'uniform'}\n",
      "      - { 'parameter': 'B_s->K::alpha^f0_2@BSZ2015', 'min':  -0.79609, 'max':  0.07683, 'type': 'uniform'}\n",
      "      - { 'parameter': 'B_s->K::alpha^fT_0@BSZ2015', 'min':  0.26277, 'max':  0.43880, 'type': 'uniform'}\n",
      "      - { 'parameter': 'B_s->K::alpha^fT_1@BSZ2015', 'min':  -3.05522, 'max':  1.22945, 'type': 'uniform'}\n",
      "      - { 'parameter': 'B_s->K::alpha^fT_2@BSZ2015', 'min':  -54.70701, 'max':  47.96142, 'type': 'uniform'}\n"
     ]
    }
   ],
   "source": [
    "for i, p in enumerate(analysis.varied_parameters):\n",
    "    mean = np.average(f.samples[:,i], weights=f.weights)\n",
    "    std = wstd(f.samples[:,i], weights=f.weights)\n",
    "    print(f\"      - {{ 'parameter': '{p.name()}', 'min':  {mean - 5*std:.5f}, 'max':  {mean + 5*std:.5f}, 'type': 'uniform'}}\")"
   ]
  },
  {
   "cell_type": "code",
   "execution_count": 26,
   "metadata": {},
   "outputs": [],
   "source": [
    "if resample:\n",
    "    eos.tasks.corner_plot(af, posterior, base_directory=BASE_DIRECTORY)"
   ]
  },
  {
   "cell_type": "code",
   "execution_count": 27,
   "metadata": {},
   "outputs": [],
   "source": [
    "if resample:\n",
    "    eos.tasks.predict_observables(af, posterior, \"BsToK\", base_directory=BASE_DIRECTORY)\n",
    "\n",
    "predictions = eos.Prediction(os.path.join(BASE_DIRECTORY, posterior, \"pred-BsToK/\"))"
   ]
  },
  {
   "cell_type": "code",
   "execution_count": 28,
   "metadata": {},
   "outputs": [
    {
     "data": {
      "text/plain": [
       "array([0.30201389, 0.30223506, 0.30487549, 0.30549839, 0.31299002])"
      ]
     },
     "metadata": {},
     "output_type": "display_data"
    },
    {
     "data": {
      "text/plain": [
       "array([[0.00013058, 0.00013067, 0.0001317 , 0.00013194, 0.00013483],\n",
       "       [0.00013067, 0.00013075, 0.00013179, 0.00013203, 0.00013493],\n",
       "       [0.0001317 , 0.00013179, 0.00013284, 0.00013309, 0.00013603],\n",
       "       [0.00013194, 0.00013203, 0.00013309, 0.00013333, 0.00013629],\n",
       "       [0.00013483, 0.00013493, 0.00013603, 0.00013629, 0.00013936]])"
      ]
     },
     "metadata": {},
     "output_type": "display_data"
    },
    {
     "data": {
      "text/plain": [
       "array([0.        , 0.00010303, 0.00134919, 0.00164741, 0.00535063])"
      ]
     },
     "metadata": {},
     "output_type": "display_data"
    }
   ],
   "source": [
    "pred = np.average(predictions.samples, axis=0, weights=predictions.weights)\n",
    "display(pred)\n",
    "display(np.cov(predictions.samples, rowvar=False, aweights=predictions.weights))\n",
    "\n",
    "m2values = np.array([0., 0.0193, 0.247, 0.300, 0.917])\n",
    "display((pred - pred[0] / (1 - m2values / 5.540 / 5.540)) / pred)"
   ]
  },
  {
   "cell_type": "markdown",
   "metadata": {},
   "source": [
    "## B to pi"
   ]
  },
  {
   "cell_type": "code",
   "execution_count": 29,
   "metadata": {},
   "outputs": [],
   "source": [
    "posterior = 'BTopi'\n",
    "analysis = af.analysis(posterior)"
   ]
  },
  {
   "cell_type": "code",
   "execution_count": 30,
   "metadata": {},
   "outputs": [
    {
     "data": {
      "application/vnd.jupyter.widget-view+json": {
       "model_id": "ad5eb25f438e4877a999b9b2fe0af473",
       "version_major": 2,
       "version_minor": 0
      },
      "text/plain": [
       "Accordion(children=(Output(layout=Layout(height='200px', overflow='auto')),), titles=('BTopi/mode-default',))"
      ]
     },
     "metadata": {},
     "output_type": "display_data"
    },
    {
     "data": {
      "text/html": [
       "<table>\n",
       "<tr><th>constraint</th><th>&chi;<sup>2</sup></th><th>&plusmn;&chi;</th><th>d.o.f.</th><th>local p-value</th></tr>\n",
       "<tr style=\"\"><td><tt>B->pi::f_++f_0+f_T@FNAL+MILC:2015C</tt></td><td>8.3899</td><td>&mdash;</td><td>11</td><td>67.8007%</td></tr>\n",
       "<tr style=\"color: orange\"><td><tt>B->pi::f_++f_0@RBC+UKQCD:2015A</tt></td><td>7.6223</td><td>&mdash;</td><td>6</td><td>26.7103%</td></tr>\n",
       "<tr style=\"\"><td><tt>B->pi::form-factors[f_+,f_0,f_T]@LMvD:2021A</tt></td><td>15.7446</td><td>&mdash;</td><td>14</td><td>32.9217%</td></tr>\n",
       "</table><br/>\n",
       "<table>\n",
       "<tr><th>total &chi;<sup>2</sup></th><td>31.7568</td></tr>\n",
       "<tr><th>total degrees of freedom</th><td>23</td></tr>\n",
       "<tr><th>p-value</th><td>10.5307%</td></tr>\n",
       "</table>\n"
      ],
      "text/plain": [
       "<_eos.GoodnessOfFit at 0x7fa2fcc6bc90>"
      ]
     },
     "metadata": {},
     "output_type": "display_data"
    },
    {
     "data": {
      "text/plain": [
       "array([ 0.206196  , -0.90175718, -0.56937571, -0.02126664, -0.23159725,\n",
       "        0.22453291, -0.77058226, -0.43658552])"
      ]
     },
     "execution_count": 30,
     "metadata": {},
     "output_type": "execute_result"
    }
   ],
   "source": [
    "bfp, gof = eos.tasks.find_mode(af, posterior, importance_samples=True, base_directory=BASE_DIRECTORY, optimizations=100)\n",
    "display(gof)\n",
    "bfp.point"
   ]
  },
  {
   "cell_type": "code",
   "execution_count": 31,
   "metadata": {},
   "outputs": [
    {
     "name": "stdout",
     "output_type": "stream",
     "text": [
      "Collected 13822 samples\n"
     ]
    }
   ],
   "source": [
    "if resample:\n",
    "    eos.tasks.sample_nested(af, posterior, base_directory=BASE_DIRECTORY, bound='multi')\n",
    "\n",
    "f = eos.data.ImportanceSamples(os.path.join(BASE_DIRECTORY, posterior, 'samples'))\n",
    "print(f\"Collected {f.samples.shape[0]} samples\")"
   ]
  },
  {
   "cell_type": "code",
   "execution_count": 32,
   "metadata": {},
   "outputs": [
    {
     "name": "stdout",
     "output_type": "stream",
     "text": [
      "      - { 'parameter': 'B->pi::alpha^f+_0@BSZ2015', 'min':  0.14197, 'max':  0.27025, 'type': 'uniform'}\n",
      "      - { 'parameter': 'B->pi::alpha^f+_1@BSZ2015', 'min':  -1.20649, 'max':  -0.59845, 'type': 'uniform'}\n",
      "      - { 'parameter': 'B->pi::alpha^f+_2@BSZ2015', 'min':  -1.22919, 'max':  0.08789, 'type': 'uniform'}\n",
      "      - { 'parameter': 'B->pi::alpha^f0_1@BSZ2015', 'min':  -0.24737, 'max':  0.20528, 'type': 'uniform'}\n",
      "      - { 'parameter': 'B->pi::alpha^f0_2@BSZ2015', 'min':  -0.44812, 'max':  -0.01423, 'type': 'uniform'}\n",
      "      - { 'parameter': 'B->pi::alpha^fT_0@BSZ2015', 'min':  0.14802, 'max':  0.30091, 'type': 'uniform'}\n",
      "      - { 'parameter': 'B->pi::alpha^fT_1@BSZ2015', 'min':  -1.16690, 'max':  -0.37282, 'type': 'uniform'}\n",
      "      - { 'parameter': 'B->pi::alpha^fT_2@BSZ2015', 'min':  -1.04611, 'max':  0.17557, 'type': 'uniform'}\n"
     ]
    }
   ],
   "source": [
    "for i, p in enumerate(analysis.varied_parameters):\n",
    "    mean = np.average(f.samples[:,i], weights=f.weights)\n",
    "    std = wstd(f.samples[:,i], weights=f.weights)\n",
    "    print(f\"      - {{ 'parameter': '{p.name()}', 'min':  {mean - 5*std:.5f}, 'max':  {mean + 5*std:.5f}, 'type': 'uniform'}}\")"
   ]
  },
  {
   "cell_type": "code",
   "execution_count": 33,
   "metadata": {},
   "outputs": [],
   "source": [
    "if resample:\n",
    "    eos.tasks.corner_plot(af, posterior, base_directory=BASE_DIRECTORY)"
   ]
  },
  {
   "cell_type": "code",
   "execution_count": 34,
   "metadata": {},
   "outputs": [],
   "source": [
    "if resample:\n",
    "    eos.tasks.predict_observables(af, posterior, \"BTopi\", base_directory=BASE_DIRECTORY)\n",
    "\n",
    "predictions = eos.Prediction(os.path.join(BASE_DIRECTORY, posterior, \"pred-BTopi/\"))"
   ]
  },
  {
   "cell_type": "code",
   "execution_count": 35,
   "metadata": {},
   "outputs": [
    {
     "data": {
      "text/plain": [
       "array([0.20611232, 0.20638947, 0.20969382, 0.21047221, 0.21980012])"
      ]
     },
     "metadata": {},
     "output_type": "display_data"
    },
    {
     "data": {
      "text/plain": [
       "array([[0.00016457, 0.00016464, 0.00016557, 0.00016578, 0.00016834],\n",
       "       [0.00016464, 0.00016472, 0.00016565, 0.00016586, 0.00016843],\n",
       "       [0.00016557, 0.00016565, 0.00016659, 0.00016681, 0.00016942],\n",
       "       [0.00016578, 0.00016586, 0.00016681, 0.00016703, 0.00016965],\n",
       "       [0.00016834, 0.00016843, 0.00016942, 0.00016965, 0.0001724 ]])"
      ]
     },
     "metadata": {},
     "output_type": "display_data"
    },
    {
     "data": {
      "text/plain": [
       "array([0.        , 0.00071445, 0.00910513, 0.0110481 , 0.03339367])"
      ]
     },
     "metadata": {},
     "output_type": "display_data"
    }
   ],
   "source": [
    "pred = np.average(predictions.samples, axis=0, weights=predictions.weights)\n",
    "display(pred)\n",
    "display(np.cov(predictions.samples, rowvar=False, aweights=predictions.weights))\n",
    "\n",
    "m2values = np.array([0., 0.0193, 0.247, 0.300, 0.917])\n",
    "display((pred - pred[0] / (1 - m2values / 5.540 / 5.540)) / pred)"
   ]
  },
  {
   "cell_type": "code",
   "execution_count": null,
   "metadata": {},
   "outputs": [],
   "source": []
  }
 ],
 "metadata": {
  "kernelspec": {
   "display_name": ".eos",
   "language": "python",
   "name": "python3"
  },
  "language_info": {
   "codemirror_mode": {
    "name": "ipython",
    "version": 3
   },
   "file_extension": ".py",
   "mimetype": "text/x-python",
   "name": "python",
   "nbconvert_exporter": "python",
   "pygments_lexer": "ipython3",
   "version": "3.12.5"
  }
 },
 "nbformat": 4,
 "nbformat_minor": 2
}
